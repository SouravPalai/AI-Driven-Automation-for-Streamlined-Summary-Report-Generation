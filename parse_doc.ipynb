{
 "cells": [
  {
   "cell_type": "code",
   "execution_count": 1,
   "id": "ea323413",
   "metadata": {},
   "outputs": [
    {
     "name": "stdout",
     "output_type": "stream",
     "text": [
      "Requirement already satisfied: python-docx in /opt/anaconda3/lib/python3.12/site-packages (1.2.0)\n",
      "Requirement already satisfied: lxml>=3.1.0 in /opt/anaconda3/lib/python3.12/site-packages (from python-docx) (5.2.1)\n",
      "Requirement already satisfied: typing_extensions>=4.9.0 in /opt/anaconda3/lib/python3.12/site-packages (from python-docx) (4.14.0)\n"
     ]
    }
   ],
   "source": [
    "!pip install python-docx\n"
   ]
  },
  {
   "cell_type": "code",
   "execution_count": 2,
   "id": "e100af7b",
   "metadata": {},
   "outputs": [
    {
     "name": "stdout",
     "output_type": "stream",
     "text": [
      "✅ Total Paragraphs Extracted: 835\n"
     ]
    },
    {
     "data": {
      "text/plain": [
       "['Protocol Investigator Agreement',\n",
       " 'I agree:',\n",
       " 'To conduct the study in compliance with this protocol, any future protocol amendments, with the terms of the clinical trial agreement and with any other study conduct procedures and/or study conduct documents provided by GSK.',\n",
       " 'To assume responsibility for the proper conduct of the study at this site.',\n",
       " 'That I am aware of and will comply with Good Clinical Practise (GCP) and all applicable regulatory requirements.']"
      ]
     },
     "execution_count": 2,
     "metadata": {},
     "output_type": "execute_result"
    }
   ],
   "source": [
    "from docx import Document\n",
    "\n",
    "# Load the source document (Protocol.docx)\n",
    "doc = Document(\"Protocol.docx\")\n",
    "\n",
    "# Extract and clean paragraphs\n",
    "paragraphs = [p.text.strip() for p in doc.paragraphs if p.text.strip()]\n",
    "\n",
    "# Preview total paragraphs and first 5\n",
    "print(f\"✅ Total Paragraphs Extracted: {len(paragraphs)}\")\n",
    "paragraphs[:5]\n"
   ]
  },
  {
   "cell_type": "code",
   "execution_count": 3,
   "id": "0f781187",
   "metadata": {},
   "outputs": [],
   "source": [
    "with open(\"extracted_text.txt\", \"w\") as f:\n",
    "    for para in paragraphs:\n",
    "        f.write(para + \"\\n\\n\")\n"
   ]
  },
  {
   "cell_type": "code",
   "execution_count": null,
   "id": "f814b817",
   "metadata": {},
   "outputs": [],
   "source": []
  },
  {
   "cell_type": "code",
   "execution_count": null,
   "id": "b5f3c6e6",
   "metadata": {},
   "outputs": [],
   "source": []
  },
  {
   "cell_type": "code",
   "execution_count": null,
   "id": "6c453e8a",
   "metadata": {},
   "outputs": [],
   "source": []
  },
  {
   "cell_type": "code",
   "execution_count": null,
   "id": "ecee5542",
   "metadata": {},
   "outputs": [],
   "source": []
  },
  {
   "cell_type": "code",
   "execution_count": null,
   "id": "b31c8cb3",
   "metadata": {},
   "outputs": [],
   "source": []
  }
 ],
 "metadata": {
  "kernelspec": {
   "display_name": "base",
   "language": "python",
   "name": "python3"
  },
  "language_info": {
   "codemirror_mode": {
    "name": "ipython",
    "version": 3
   },
   "file_extension": ".py",
   "mimetype": "text/x-python",
   "name": "python",
   "nbconvert_exporter": "python",
   "pygments_lexer": "ipython3",
   "version": "3.12.7"
  }
 },
 "nbformat": 4,
 "nbformat_minor": 5
}
